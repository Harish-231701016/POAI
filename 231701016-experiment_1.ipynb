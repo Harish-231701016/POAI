{
 "cells": [
  {
   "cell_type": "markdown",
   "metadata": {},
   "source": [
    "## 8 Queens Problem\n",
    "### Program to solve the 8 Queen's Problem"
   ]
  },
  {
   "cell_type": "code",
   "execution_count": 7,
   "metadata": {},
   "outputs": [],
   "source": [
    "def print_board(board):\n",
    "    for row in board:\n",
    "        print(\" \".join(\"Q\" if x == 1 else \".\" for x in row))"
   ]
  },
  {
   "cell_type": "code",
   "execution_count": 9,
   "metadata": {},
   "outputs": [],
   "source": [
    "def is_safe(board, row, col):\n",
    "    # Check the column for other queens\n",
    "    for i in range(row):\n",
    "        if board[i][col] == 1:\n",
    "            return False\n",
    "    \n",
    "    # Check the diagonal (upper left)\n",
    "    for i, j in zip(range(row-1, -1, -1), range(col-1, -1, -1)):\n",
    "        if board[i][j] == 1:\n",
    "            return False\n",
    "\n",
    "    # Check the diagonal (upper right)\n",
    "    for i, j in zip(range(row-1, -1, -1), range(col+1, 8)):\n",
    "        if board[i][j] == 1:\n",
    "            return False\n",
    "    \n",
    "    return True"
   ]
  },
  {
   "cell_type": "code",
   "execution_count": 10,
   "metadata": {},
   "outputs": [],
   "source": [
    "def solve_n_queens(board, row):\n",
    "    # If all queens are placed, return True\n",
    "    if row == 8:\n",
    "        return True\n",
    "    \n",
    "    # Try placing a queen in each column of the current row\n",
    "    for col in range(8):\n",
    "        if is_safe(board, row, col):\n",
    "            board[row][col] = 1  # Place queen\n",
    "            if solve_n_queens(board, row + 1):\n",
    "                return True\n",
    "            board[row][col] = 0  # Backtrack\n",
    "\n",
    "    return False"
   ]
  },
  {
   "cell_type": "code",
   "execution_count": 11,
   "metadata": {},
   "outputs": [],
   "source": [
    "board = [[0 for _ in range(8)] for _ in range(8)]"
   ]
  },
  {
   "cell_type": "code",
   "execution_count": 12,
   "metadata": {},
   "outputs": [
    {
     "name": "stdout",
     "output_type": "stream",
     "text": [
      "Q . . . . . . .\n",
      ". . . . Q . . .\n",
      ". . . . . . . Q\n",
      ". . . . . Q . .\n",
      ". . Q . . . . .\n",
      ". . . . . . Q .\n",
      ". Q . . . . . .\n",
      ". . . Q . . . .\n"
     ]
    }
   ],
   "source": [
    "if solve_n_queens(board, 0):\n",
    "    print_board(board)\n",
    "else:\n",
    "    print(\"No solution found\")"
   ]
  }
 ],
 "metadata": {
  "kernelspec": {
   "display_name": "Python 3",
   "language": "python",
   "name": "python3"
  },
  "language_info": {
   "codemirror_mode": {
    "name": "ipython",
    "version": 3
   },
   "file_extension": ".py",
   "mimetype": "text/x-python",
   "name": "python",
   "nbconvert_exporter": "python",
   "pygments_lexer": "ipython3",
   "version": "3.13.1"
  }
 },
 "nbformat": 4,
 "nbformat_minor": 2
}
