{
 "cells": [
  {
   "cell_type": "markdown",
   "metadata": {},
   "source": [
    "## Experiment 2 - Depth First Search Algorithm"
   ]
  },
  {
   "cell_type": "code",
   "execution_count": 1,
   "metadata": {},
   "outputs": [],
   "source": [
    "def dfs(graph,node,destination,visited,path):\n",
    "    path.append(node)\n",
    "    if node== destination:\n",
    "        return True\n",
    "    visited.add(node)\n",
    "    for neighbor in graph[node]:\n",
    "        if neighbor not in visited:\n",
    "            if dfs(graph,neighbor,destination, visited,path):\n",
    "                return True\n",
    "        path.pop()\n",
    "        return False"
   ]
  },
  {
   "cell_type": "code",
   "execution_count": 2,
   "metadata": {},
   "outputs": [
    {
     "name": "stdout",
     "output_type": "stream",
     "text": [
      "Path exists from  0 to 5\n",
      "Path:  [0, 1, 3, 5]\n"
     ]
    }
   ],
   "source": [
    "graph={0:[1,2], 1:[3],2:[3,4],3:[5],4:[5],5:[]}\n",
    "source=0\n",
    "destination=5\n",
    "visited=set()\n",
    "path=[]\n",
    "if dfs(graph,source,destination, visited,path):\n",
    "    print(\"Path exists from \",source, 'to',destination)\n",
    "    print(\"Path: \",path)\n",
    "else:\n",
    "    print(\"No path exists from \",source,\"to\",destination)"
   ]
  },
  {
   "cell_type": "code",
   "execution_count": null,
   "metadata": {},
   "outputs": [],
   "source": []
  }
 ],
 "metadata": {
  "kernelspec": {
   "display_name": "Python 3",
   "language": "python",
   "name": "python3"
  },
  "language_info": {
   "codemirror_mode": {
    "name": "ipython",
    "version": 3
   },
   "file_extension": ".py",
   "mimetype": "text/x-python",
   "name": "python",
   "nbconvert_exporter": "python",
   "pygments_lexer": "ipython3",
   "version": "3.12.4"
  }
 },
 "nbformat": 4,
 "nbformat_minor": 2
}
