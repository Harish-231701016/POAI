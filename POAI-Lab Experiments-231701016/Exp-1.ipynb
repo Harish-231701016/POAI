{
 "cells": [
  {
   "cell_type": "markdown",
   "id": "c238e63d",
   "metadata": {},
   "source": [
    "# Experiment 1: 8 Queens Problem"
   ]
  },
  {
   "cell_type": "markdown",
   "id": "231b837e",
   "metadata": {},
   "source": [
    "## Aim"
   ]
  },
  {
   "cell_type": "markdown",
   "id": "0ab0f06a",
   "metadata": {},
   "source": [
    "To write a program to solve the 8 Queens problem using backtracking."
   ]
  },
  {
   "cell_type": "markdown",
   "id": "88de723f",
   "metadata": {},
   "source": [
    "## Procedure"
   ]
  },
  {
   "cell_type": "markdown",
   "id": "c9534660",
   "metadata": {},
   "source": [
    "1. Place queens one by one in different columns, starting from the leftmost column.\n",
    "2. When placing a queen in a column, check for row and diagonal conflicts.\n",
    "3. If a conflict occurs, backtrack and try placing the queen in the next row.\n",
    "4. Repeat the process until all queens are placed without conflict.\n"
   ]
  },
  {
   "cell_type": "markdown",
   "id": "77979fcb",
   "metadata": {},
   "source": [
    "## Code"
   ]
  },
  {
   "cell_type": "code",
   "execution_count": 2,
   "id": "964d1294",
   "metadata": {},
   "outputs": [
    {
     "name": "stdout",
     "output_type": "stream",
     "text": [
      "Q . . . . . . .\n",
      ". . . . . . Q .\n",
      ". . . . Q . . .\n",
      ". . . . . . . Q\n",
      ". Q . . . . . .\n",
      ". . . Q . . . .\n",
      ". . . . . Q . .\n",
      ". . Q . . . . .\n"
     ]
    }
   ],
   "source": [
    "def print_solution(board):\n",
    "    for row in board:\n",
    "        print(\" \".join(\"Q\" if col else \".\" for col in row))\n",
    "\n",
    "def is_safe(board, row, col, n):\n",
    "    for i in range(col):\n",
    "        if board[row][i]:\n",
    "            return False\n",
    "    for i, j in zip(range(row, -1, -1), range(col, -1, -1)):\n",
    "        if board[i][j]:\n",
    "            return False\n",
    "    for i, j in zip(range(row, n, 1), range(col, -1, -1)):\n",
    "        if board[i][j]:\n",
    "            return False\n",
    "    return True\n",
    "\n",
    "def solve_nqueens(board, col, n):\n",
    "    if col >= n:\n",
    "        return True\n",
    "    for i in range(n):\n",
    "        if is_safe(board, i, col, n):\n",
    "            board[i][col] = 1\n",
    "            if solve_nqueens(board, col + 1, n):\n",
    "                return True\n",
    "            board[i][col] = 0\n",
    "    return False\n",
    "\n",
    "def solve():\n",
    "    n = 8\n",
    "    board = [[0 for _ in range(n)] for _ in range(n)]\n",
    "    if solve_nqueens(board, 0, n):\n",
    "        print_solution(board)\n",
    "    else:\n",
    "        print(\"Solution does not exist\")\n",
    "\n",
    "solve()\n"
   ]
  },
  {
   "cell_type": "markdown",
   "id": "15f37288",
   "metadata": {},
   "source": []
  }
 ],
 "metadata": {
  "kernelspec": {
   "display_name": "Python 3",
   "language": "python",
   "name": "python3"
  },
  "language_info": {
   "codemirror_mode": {
    "name": "ipython",
    "version": 3
   },
   "file_extension": ".py",
   "mimetype": "text/x-python",
   "name": "python",
   "nbconvert_exporter": "python",
   "pygments_lexer": "ipython3",
   "version": "3.13.3"
  }
 },
 "nbformat": 4,
 "nbformat_minor": 5
}
