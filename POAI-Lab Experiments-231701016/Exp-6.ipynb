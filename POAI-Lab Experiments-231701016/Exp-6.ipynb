{
 "cells": [
  {
   "cell_type": "markdown",
   "id": "64490d01",
   "metadata": {},
   "source": [
    "# Experiment 6: Forward Chaining"
   ]
  },
  {
   "cell_type": "markdown",
   "id": "8010a126",
   "metadata": {},
   "source": [
    "## Aim"
   ]
  },
  {
   "cell_type": "markdown",
   "id": "8abc0a6d",
   "metadata": {},
   "source": [
    "To implement forward chaining to infer new facts."
   ]
  },
  {
   "cell_type": "markdown",
   "id": "67f4842f",
   "metadata": {},
   "source": [
    "## Procedure"
   ]
  },
  {
   "cell_type": "markdown",
   "id": "1ced9645",
   "metadata": {},
   "source": [
    "1. Start with known facts.\n",
    "2. Apply rules to infer new facts iteratively.\n",
    "3. Stop when no more facts can be inferred or the goal is achieved.\n"
   ]
  },
  {
   "cell_type": "markdown",
   "id": "6c8d73cd",
   "metadata": {},
   "source": [
    "## Code"
   ]
  },
  {
   "cell_type": "code",
   "execution_count": 1,
   "id": "3a1cccad",
   "metadata": {},
   "outputs": [
    {
     "name": "stdout",
     "output_type": "stream",
     "text": [
      "Inferred facts: {'C', 'A', 'B'}\n"
     ]
    }
   ],
   "source": [
    "facts = {'A'}\n",
    "rules = {\n",
    "    'A': ['B'],\n",
    "    'B': ['C']\n",
    "}\n",
    "inferred = set(facts)\n",
    "while True:\n",
    "    added = False\n",
    "    for key, values in rules.items():\n",
    "        if key in inferred:\n",
    "            for value in values:\n",
    "                if value not in inferred:\n",
    "                    inferred.add(value)\n",
    "                    added = True\n",
    "    if not added:\n",
    "        break\n",
    "print(\"Inferred facts:\", inferred)\n"
   ]
  },
  {
   "cell_type": "markdown",
   "id": "30c0856a",
   "metadata": {},
   "source": []
  }
 ],
 "metadata": {
  "kernelspec": {
   "display_name": "Python 3",
   "language": "python",
   "name": "python3"
  },
  "language_info": {
   "codemirror_mode": {
    "name": "ipython",
    "version": 3
   },
   "file_extension": ".py",
   "mimetype": "text/x-python",
   "name": "python",
   "nbconvert_exporter": "python",
   "pygments_lexer": "ipython3",
   "version": "3.13.3"
  }
 },
 "nbformat": 4,
 "nbformat_minor": 5
}
