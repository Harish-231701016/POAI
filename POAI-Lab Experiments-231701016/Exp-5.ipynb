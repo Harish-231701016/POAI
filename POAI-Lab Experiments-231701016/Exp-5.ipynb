{
 "cells": [
  {
   "cell_type": "markdown",
   "id": "37661b9a",
   "metadata": {},
   "source": [
    "# Experiment 5: Backward Chaining"
   ]
  },
  {
   "cell_type": "markdown",
   "id": "1d1ceb88",
   "metadata": {},
   "source": [
    "## Aim"
   ]
  },
  {
   "cell_type": "markdown",
   "id": "84f79c12",
   "metadata": {},
   "source": [
    "To implement backward chaining to prove a hypothesis."
   ]
  },
  {
   "cell_type": "markdown",
   "id": "587f108d",
   "metadata": {},
   "source": [
    "## Procedure"
   ]
  },
  {
   "cell_type": "markdown",
   "id": "60b983c5",
   "metadata": {},
   "source": [
    "1. Start with the goal.\n",
    "2. Search for rules that conclude the goal.\n",
    "3. Recursively prove all conditions of those rules.\n",
    "4. If all subgoals are proven, the goal is proven.\n",
    "\n"
   ]
  },
  {
   "cell_type": "markdown",
   "id": "22a27371",
   "metadata": {},
   "source": [
    "## Code"
   ]
  },
  {
   "cell_type": "code",
   "execution_count": 1,
   "id": "b958f300",
   "metadata": {},
   "outputs": [
    {
     "name": "stdout",
     "output_type": "stream",
     "text": [
      "Can 'flies' be proven? False\n",
      "Known facts after proving: {'has_feathers'}\n"
     ]
    }
   ],
   "source": [
    "class BC:\n",
    "    def __init__(self, rules, facts):\n",
    "        self.rules = rules  # {conclusion: [premises]}\n",
    "        self.facts = set(facts)\n",
    "    def prove(self, goal):\n",
    "        if goal in self.facts:\n",
    "            return True\n",
    "        for conc, prem in self.rules.items():\n",
    "            if conc == goal:\n",
    "                if all(self.prove(p) for p in prem):\n",
    "                    self.facts.add(goal)\n",
    "                    return True\n",
    "        return False\n",
    "rules = {\n",
    "    'flies': ['has_wings', 'is_bird'],\n",
    "    'is_bird': ['has_feathers']\n",
    "}\n",
    "facts = ['has_feathers']\n",
    "bc = BC(rules, facts)\n",
    "print(f\"Can 'flies' be proven? {bc.prove('flies')}\")\n",
    "print(f\"Known facts after proving: {bc.facts}\")\n"
   ]
  },
  {
   "cell_type": "markdown",
   "id": "2c927f92",
   "metadata": {},
   "source": []
  }
 ],
 "metadata": {
  "kernelspec": {
   "display_name": "Python 3",
   "language": "python",
   "name": "python3"
  },
  "language_info": {
   "codemirror_mode": {
    "name": "ipython",
    "version": 3
   },
   "file_extension": ".py",
   "mimetype": "text/x-python",
   "name": "python",
   "nbconvert_exporter": "python",
   "pygments_lexer": "ipython3",
   "version": "3.13.3"
  }
 },
 "nbformat": 4,
 "nbformat_minor": 5
}
