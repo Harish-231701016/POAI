{
 "cells": [
  {
   "cell_type": "markdown",
   "id": "d946ab1a",
   "metadata": {},
   "source": [
    "# Experiment 4: A* Algorithm"
   ]
  },
  {
   "cell_type": "markdown",
   "id": "1b1a266b",
   "metadata": {},
   "source": [
    "## Aim"
   ]
  },
  {
   "cell_type": "markdown",
   "id": "bd8945c0",
   "metadata": {},
   "source": [
    "To implement the A* algorithm for shortest path finding."
   ]
  },
  {
   "cell_type": "markdown",
   "id": "cc6727cb",
   "metadata": {},
   "source": [
    "## Procedure"
   ]
  },
  {
   "cell_type": "markdown",
   "id": "bb952582",
   "metadata": {},
   "source": [
    "1. Maintain open and closed lists.\n",
    "2. Select the node with lowest f = g + h.\n",
    "3. Move it to closed list, and update neighbors.\n",
    "4. Repeat until goal is found.\n"
   ]
  },
  {
   "cell_type": "markdown",
   "id": "429795d4",
   "metadata": {},
   "source": [
    "## Code"
   ]
  },
  {
   "cell_type": "code",
   "execution_count": 1,
   "id": "9f24c333",
   "metadata": {},
   "outputs": [
    {
     "name": "stdout",
     "output_type": "stream",
     "text": [
      "Path: ['A', 'B', 'D', 'E']\n"
     ]
    }
   ],
   "source": [
    "from queue import PriorityQueue\n",
    "\n",
    "def a_star(start, goal, graph, heuristic):\n",
    "    open_list = PriorityQueue()\n",
    "    open_list.put((0, start))\n",
    "    came_from = {}\n",
    "    g_score = {node: float('inf') for node in graph}\n",
    "    g_score[start] = 0\n",
    "\n",
    "    while not open_list.empty():\n",
    "        _, current = open_list.get()\n",
    "\n",
    "        if current == goal:\n",
    "            path = []\n",
    "            while current in came_from:\n",
    "                path.append(current)\n",
    "                current = came_from[current]\n",
    "            path.append(start)\n",
    "            return path[::-1]\n",
    "\n",
    "        for neighbor in graph[current]:\n",
    "            temp_g = g_score[current] + graph[current][neighbor]\n",
    "            if temp_g < g_score[neighbor]:\n",
    "                came_from[neighbor] = current\n",
    "                g_score[neighbor] = temp_g\n",
    "                f = temp_g + heuristic[neighbor]\n",
    "                open_list.put((f, neighbor))\n",
    "    return None\n",
    "\n",
    "graph = {\n",
    "    'A': {'B': 1, 'C': 4},\n",
    "    'B': {'D': 1},\n",
    "    'C': {'D': 1},\n",
    "    'D': {'E': 3},\n",
    "    'E': {}\n",
    "}\n",
    "heuristic = {'A': 7, 'B': 6, 'C': 2, 'D': 1, 'E': 0}\n",
    "\n",
    "print(\"Path:\", a_star('A', 'E', graph, heuristic))\n"
   ]
  },
  {
   "cell_type": "markdown",
   "id": "811581a2",
   "metadata": {},
   "source": []
  }
 ],
 "metadata": {
  "kernelspec": {
   "display_name": "Python 3",
   "language": "python",
   "name": "python3"
  },
  "language_info": {
   "codemirror_mode": {
    "name": "ipython",
    "version": 3
   },
   "file_extension": ".py",
   "mimetype": "text/x-python",
   "name": "python",
   "nbconvert_exporter": "python",
   "pygments_lexer": "ipython3",
   "version": "3.13.3"
  }
 },
 "nbformat": 4,
 "nbformat_minor": 5
}
