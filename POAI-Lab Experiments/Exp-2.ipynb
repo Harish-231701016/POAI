{
 "cells": [
  {
   "cell_type": "markdown",
   "id": "ac534144",
   "metadata": {},
   "source": [
    "# Experiment 2: Depth First Search (DFS)"
   ]
  },
  {
   "cell_type": "markdown",
   "id": "0f935c31",
   "metadata": {},
   "source": [
    "## Aim"
   ]
  },
  {
   "cell_type": "markdown",
   "id": "72e4243b",
   "metadata": {},
   "source": [
    "To solve a problem using the Depth First Search algorithm."
   ]
  },
  {
   "cell_type": "markdown",
   "id": "d53b5c51",
   "metadata": {},
   "source": [
    "## Procedure"
   ]
  },
  {
   "cell_type": "markdown",
   "id": "66add4a5",
   "metadata": {},
   "source": [
    "1. Start from the root node and push it to the stack.\n",
    "2. Pop the top item from the stack and mark it as visited.\n",
    "3. Push all adjacent unvisited nodes to the stack.\n",
    "4. Repeat until the stack is empty.\n"
   ]
  },
  {
   "cell_type": "markdown",
   "id": "384ca517",
   "metadata": {},
   "source": [
    "## Code"
   ]
  },
  {
   "cell_type": "code",
   "execution_count": 1,
   "id": "0d8ee207",
   "metadata": {},
   "outputs": [
    {
     "name": "stdout",
     "output_type": "stream",
     "text": [
      "A B D E F C "
     ]
    }
   ],
   "source": [
    "def dfs(graph, start, visited=None):\n",
    "    if visited is None:\n",
    "        visited = set()\n",
    "    visited.add(start)\n",
    "    print(start, end=' ')\n",
    "    for neighbor in graph[start]:\n",
    "        if neighbor not in visited:\n",
    "            dfs(graph, neighbor, visited)\n",
    "\n",
    "graph = {\n",
    "    'A': ['B', 'C'],\n",
    "    'B': ['D', 'E'],\n",
    "    'C': ['F'],\n",
    "    'D': [],\n",
    "    'E': ['F'],\n",
    "    'F': []\n",
    "}\n",
    "\n",
    "dfs(graph, 'A')\n"
   ]
  },
  {
   "cell_type": "markdown",
   "id": "6313f468",
   "metadata": {},
   "source": []
  }
 ],
 "metadata": {
  "kernelspec": {
   "display_name": "Python 3",
   "language": "python",
   "name": "python3"
  },
  "language_info": {
   "codemirror_mode": {
    "name": "ipython",
    "version": 3
   },
   "file_extension": ".py",
   "mimetype": "text/x-python",
   "name": "python",
   "nbconvert_exporter": "python",
   "pygments_lexer": "ipython3",
   "version": "3.13.3"
  }
 },
 "nbformat": 4,
 "nbformat_minor": 5
}
