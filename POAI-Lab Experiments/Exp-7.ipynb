{
 "cells": [
  {
   "cell_type": "markdown",
   "id": "295e4a0c",
   "metadata": {},
   "source": [
    "# Experiment 7: Decision Tree"
   ]
  },
  {
   "cell_type": "markdown",
   "id": "8d140f9d",
   "metadata": {},
   "source": [
    "## Aim"
   ]
  },
  {
   "cell_type": "markdown",
   "id": "a312199b",
   "metadata": {},
   "source": [
    "To implement a decision tree classifier."
   ]
  },
  {
   "cell_type": "markdown",
   "id": "5ac6fdc2",
   "metadata": {},
   "source": [
    "## Procedure"
   ]
  },
  {
   "cell_type": "markdown",
   "id": "11680956",
   "metadata": {},
   "source": [
    "1. Import dataset and split into training/testing.\n",
    "2. Train decision tree classifier.\n",
    "3. Visualize the tree and evaluate accuracy.\n"
   ]
  },
  {
   "cell_type": "markdown",
   "id": "6499c4b3",
   "metadata": {},
   "source": [
    "## Code"
   ]
  },
  {
   "cell_type": "code",
   "execution_count": 1,
   "id": "6eb7b4cf",
   "metadata": {},
   "outputs": [
    {
     "name": "stdout",
     "output_type": "stream",
     "text": [
      "Accuracy: 0.9473684210526315\n"
     ]
    }
   ],
   "source": [
    "from sklearn import tree\n",
    "from sklearn.datasets import load_iris\n",
    "from sklearn.model_selection import train_test_split\n",
    "\n",
    "iris = load_iris()\n",
    "X_train, X_test, y_train, y_test = train_test_split(iris.data, iris.target)\n",
    "clf = tree.DecisionTreeClassifier()\n",
    "clf.fit(X_train, y_train)\n",
    "print(\"Accuracy:\", clf.score(X_test, y_test))\n"
   ]
  },
  {
   "cell_type": "markdown",
   "id": "6f7bbc15",
   "metadata": {},
   "source": []
  }
 ],
 "metadata": {
  "kernelspec": {
   "display_name": "Python 3",
   "language": "python",
   "name": "python3"
  },
  "language_info": {
   "codemirror_mode": {
    "name": "ipython",
    "version": 3
   },
   "file_extension": ".py",
   "mimetype": "text/x-python",
   "name": "python",
   "nbconvert_exporter": "python",
   "pygments_lexer": "ipython3",
   "version": "3.13.3"
  }
 },
 "nbformat": 4,
 "nbformat_minor": 5
}
