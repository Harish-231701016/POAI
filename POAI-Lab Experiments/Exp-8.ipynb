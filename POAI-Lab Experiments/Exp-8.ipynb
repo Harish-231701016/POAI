{
 "cells": [
  {
   "cell_type": "markdown",
   "id": "b4197e95",
   "metadata": {},
   "source": [
    "# Experiment 8: K-means Algorithm"
   ]
  },
  {
   "cell_type": "markdown",
   "id": "781ffaf5",
   "metadata": {},
   "source": [
    "## Aim"
   ]
  },
  {
   "cell_type": "markdown",
   "id": "d1e2b744",
   "metadata": {},
   "source": [
    "To implement K-means clustering algorithm."
   ]
  },
  {
   "cell_type": "markdown",
   "id": "9107d359",
   "metadata": {},
   "source": [
    "## Procedure"
   ]
  },
  {
   "cell_type": "markdown",
   "id": "1f001ff9",
   "metadata": {},
   "source": [
    "1. Initialize k centroids.\n",
    "2. Assign points to the nearest centroid.\n",
    "3. Update centroids based on mean of points.\n",
    "4. Repeat until convergence.\n"
   ]
  },
  {
   "cell_type": "markdown",
   "id": "f86f5abb",
   "metadata": {},
   "source": [
    "## Code"
   ]
  },
  {
   "cell_type": "code",
   "execution_count": 1,
   "id": "6a4103f5",
   "metadata": {},
   "outputs": [
    {
     "name": "stdout",
     "output_type": "stream",
     "text": [
      "Centroids: [[10.  2.]\n",
      " [ 1.  2.]]\n",
      "Labels: [1 1 1 0 0 0]\n"
     ]
    }
   ],
   "source": [
    "from sklearn.cluster import KMeans\n",
    "import numpy as np\n",
    "\n",
    "X = np.array([[1,2],[1,4],[1,0],\n",
    "              [10,2],[10,4],[10,0]])\n",
    "kmeans = KMeans(n_clusters=2)\n",
    "kmeans.fit(X)\n",
    "print(\"Centroids:\", kmeans.cluster_centers_)\n",
    "print(\"Labels:\", kmeans.labels_)\n"
   ]
  },
  {
   "cell_type": "markdown",
   "id": "40acd1c0",
   "metadata": {},
   "source": []
  }
 ],
 "metadata": {
  "kernelspec": {
   "display_name": "Python 3",
   "language": "python",
   "name": "python3"
  },
  "language_info": {
   "codemirror_mode": {
    "name": "ipython",
    "version": 3
   },
   "file_extension": ".py",
   "mimetype": "text/x-python",
   "name": "python",
   "nbconvert_exporter": "python",
   "pygments_lexer": "ipython3",
   "version": "3.13.3"
  }
 },
 "nbformat": 4,
 "nbformat_minor": 5
}
