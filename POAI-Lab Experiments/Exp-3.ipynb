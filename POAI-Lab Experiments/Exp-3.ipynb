{
 "cells": [
  {
   "cell_type": "markdown",
   "id": "455b5f8c",
   "metadata": {},
   "source": [
    "# Experiment 3: MINIMAX Algorithm"
   ]
  },
  {
   "cell_type": "markdown",
   "id": "2ef7545a",
   "metadata": {},
   "source": [
    "## Aim"
   ]
  },
  {
   "cell_type": "markdown",
   "id": "b56fbb08",
   "metadata": {},
   "source": [
    "To implement the MINIMAX algorithm for decision making in game trees."
   ]
  },
  {
   "cell_type": "markdown",
   "id": "6a1e390f",
   "metadata": {},
   "source": [
    "## Procedure"
   ]
  },
  {
   "cell_type": "markdown",
   "id": "93a9b185",
   "metadata": {},
   "source": [
    "1. Generate the game tree.\n",
    "2. Assign a score to each leaf node.\n",
    "3. Propagate scores back using MIN and MAX at alternate levels.\n",
    "4. Choose the move with the optimal score.\n"
   ]
  },
  {
   "cell_type": "markdown",
   "id": "6498c94c",
   "metadata": {},
   "source": [
    "## Code"
   ]
  },
  {
   "cell_type": "code",
   "execution_count": 1,
   "id": "7b143a7f",
   "metadata": {},
   "outputs": [
    {
     "name": "stdout",
     "output_type": "stream",
     "text": [
      "The optimal value is : 5\n"
     ]
    }
   ],
   "source": [
    "def minimax(depth, nodeIndex, isMax, scores, h):\n",
    "    if depth == h:\n",
    "        return scores[nodeIndex]\n",
    "    if isMax:\n",
    "        return max(minimax(depth+1, nodeIndex*2, False, scores, h),\n",
    "                   minimax(depth+1, nodeIndex*2 + 1, False, scores, h))\n",
    "    else:\n",
    "        return min(minimax(depth+1, nodeIndex*2, True, scores, h),\n",
    "                   minimax(depth+1, nodeIndex*2 + 1, True, scores, h))\n",
    "\n",
    "scores = [3, 5, 6, 9, 1, 2, 0, -1]\n",
    "h = 3\n",
    "print(\"The optimal value is :\", minimax(0, 0, True, scores, h))\n"
   ]
  },
  {
   "cell_type": "markdown",
   "id": "4c95fc9f",
   "metadata": {},
   "source": []
  }
 ],
 "metadata": {
  "kernelspec": {
   "display_name": "Python 3",
   "language": "python",
   "name": "python3"
  },
  "language_info": {
   "codemirror_mode": {
    "name": "ipython",
    "version": 3
   },
   "file_extension": ".py",
   "mimetype": "text/x-python",
   "name": "python",
   "nbconvert_exporter": "python",
   "pygments_lexer": "ipython3",
   "version": "3.13.3"
  }
 },
 "nbformat": 4,
 "nbformat_minor": 5
}
