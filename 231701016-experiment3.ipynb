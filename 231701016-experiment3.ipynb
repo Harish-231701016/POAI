{
 "cells": [
  {
   "cell_type": "markdown",
   "metadata": {},
   "source": [
    "# A* Algorithm"
   ]
  },
  {
   "cell_type": "code",
   "execution_count": 1,
   "metadata": {},
   "outputs": [],
   "source": [
    "import heapq"
   ]
  },
  {
   "cell_type": "code",
   "execution_count": 2,
   "metadata": {},
   "outputs": [],
   "source": [
    "DIRECTIONS = [(-1, 0), (1, 0), (0, -1), (0, 1)]"
   ]
  },
  {
   "cell_type": "code",
   "execution_count": null,
   "metadata": {},
   "outputs": [],
   "source": [
    "def heuristic(a, b):\n",
    "    return abs(a[0] - b[0]) + abs(a[1] - b[1])\n",
    "\n"
   ]
  },
  {
   "cell_type": "code",
   "execution_count": null,
   "metadata": {},
   "outputs": [],
   "source": [
    "def astar(grid, start, goal):\n",
    "    rows, cols = len(grid), len(grid[0])\n",
    "\n",
    "    open_list = []\n",
    "    heapq.heappush(open_list, (0 + heuristic(start, goal), 0, start))  # (f, g, (x, y))\n",
    "\n",
    "    g_score = {start: 0}  \n",
    "    came_from = {}  \n",
    "\n",
    "    while open_list:\n",
    "       \n",
    "        _, current_g, current = heapq.heappop(open_list)\n",
    "\n",
    "        \n",
    "        if current == goal:\n",
    "            path = []\n",
    "            while current in came_from:\n",
    "                path.append(current)\n",
    "                current = came_from[current]\n",
    "            path.append(start)\n",
    "            return path[::-1]  \n",
    "\n",
    "      \n",
    "        for dx, dy in DIRECTIONS:\n",
    "            neighbor = (current[0] + dx, current[1] + dy)\n",
    "\n",
    "            if not (0 <= neighbor[0] < rows and 0 <= neighbor[1] < cols) or grid[neighbor[0]][neighbor[1]] == 1:\n",
    "                continue\n",
    "\n",
    "            tentative_g = current_g + 1 \n",
    "\n",
    "            if neighbor not in g_score or tentative_g < g_score[neighbor]:\n",
    "                g_score[neighbor] = tentative_g\n",
    "                f_score = tentative_g + heuristic(neighbor, goal)\n",
    "                heapq.heappush(open_list, (f_score, tentative_g, neighbor))\n",
    "                came_from[neighbor] = current\n",
    "\n",
    "    return []\n"
   ]
  },
  {
   "cell_type": "code",
   "execution_count": null,
   "metadata": {},
   "outputs": [],
   "source": [
    "\n",
    "grid = [\n",
    "    [0, 0, 0, 0, 0],\n",
    "    [0, 1, 1, 1, 0],\n",
    "    [0, 0, 0, 1, 0],\n",
    "    [0, 1, 0, 0, 0],\n",
    "    [0, 0, 0, 0, 0]\n",
    "]\n",
    "\n",
    "start = (0, 0)\n",
    "goal = (4, 4)\n",
    "\n"
   ]
  },
  {
   "cell_type": "code",
   "execution_count": 6,
   "metadata": {},
   "outputs": [
    {
     "name": "stdout",
     "output_type": "stream",
     "text": [
      "Path from start to goal: [(0, 0), (0, 1), (0, 2), (0, 3), (0, 4), (1, 4), (2, 4), (3, 4), (4, 4)]\n"
     ]
    }
   ],
   "source": [
    "path = astar(grid, start, goal)\n",
    "print(\"Path from start to goal:\", path)\n"
   ]
  },
  {
   "cell_type": "code",
   "execution_count": null,
   "metadata": {},
   "outputs": [],
   "source": []
  }
 ],
 "metadata": {
  "kernelspec": {
   "display_name": "Python 3",
   "language": "python",
   "name": "python3"
  },
  "language_info": {
   "codemirror_mode": {
    "name": "ipython",
    "version": 3
   },
   "file_extension": ".py",
   "mimetype": "text/x-python",
   "name": "python",
   "nbconvert_exporter": "python",
   "pygments_lexer": "ipython3",
   "version": "3.12.4"
  }
 },
 "nbformat": 4,
 "nbformat_minor": 2
}
